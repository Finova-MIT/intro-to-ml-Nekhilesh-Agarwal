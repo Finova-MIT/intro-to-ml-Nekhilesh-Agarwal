{
 "cells": [
  {
   "cell_type": "code",
   "execution_count": 1,
   "id": "be36d245-0bcb-4a95-be6b-7365908a2491",
   "metadata": {},
   "outputs": [],
   "source": [
    "import pandas as pd\n",
    "import numpy as np\n",
    "from sklearn import linear_model\n",
    "import math"
   ]
  },
  {
   "cell_type": "code",
   "execution_count": 2,
   "id": "a32f2338-01f0-43a9-9308-ed9b9af1f2a2",
   "metadata": {},
   "outputs": [],
   "source": [
    "# Size, number of bedroom, number of floor, age of home respectively in x-axis\n",
    "# Price of house in y axis\n",
    "X_train = np.array([[2104, 5, 1, 45], [1416, 3, 2, 40], [852, 2, 1, 35]])\n",
    "y_train = np.array([460, 232, 178])"
   ]
  },
  {
   "cell_type": "code",
   "execution_count": 3,
   "id": "efcbe1e5-be0b-4057-a887-2a4088a8d04a",
   "metadata": {},
   "outputs": [],
   "source": [
    "def compute_gradient(x,y,w,b):\n",
    "    m=x.shape[0]\n",
    "    err=np.dot(x,w)+b-y\n",
    "    dwj = (1/m) * np.dot(x.T, err)\n",
    "    dbj = (1/m) * np.sum(err)\n",
    "    return dwj, dbj"
   ]
  },
  {
   "cell_type": "code",
   "execution_count": 4,
   "id": "14eed0c9-26df-4f9e-a5ba-c30344a7f4a7",
   "metadata": {},
   "outputs": [],
   "source": [
    "def gradient_descent(x,y,w,b,max_iters,a,):\n",
    "    J_hist=[]\n",
    "    for i in range (max_iters):\n",
    "        dwj, dbj = compute_gradient(x, y, w, b)\n",
    "        w-=a*dwj\n",
    "        b-=a*dbj\n",
    "        if i%math.ceil(max_iters/10)==0:\n",
    "            cost = cost_function(x, y, w, b)\n",
    "            J_hist.append(cost)\n",
    "            print(f\"Iteration {i:4d}: Cost {cost:8.2f}\")\n",
    "    return w, b, J_hist"
   ]
  },
  {
   "cell_type": "code",
   "execution_count": 5,
   "id": "2f30d7b8-d40c-465f-bc89-26855fef6d97",
   "metadata": {},
   "outputs": [],
   "source": [
    "def cost_function(x,y,w,b):\n",
    "    m=x.shape[0]\n",
    "    j=(np.dot(x,w)+b-y)**2\n",
    "    cost=np.sum(j)/(2*m)\n",
    "    return cost"
   ]
  },
  {
   "cell_type": "code",
   "execution_count": 6,
   "id": "65f2c1e8-a060-46d2-9ed2-3318c592b3d2",
   "metadata": {},
   "outputs": [
    {
     "name": "stdout",
     "output_type": "stream",
     "text": [
      "Iteration    0: Cost 28989.11\n",
      "Iteration 100000: Cost   594.34\n",
      "Iteration 200000: Cost   574.73\n",
      "Iteration 300000: Cost   569.18\n",
      "Iteration 400000: Cost   566.01\n",
      "Iteration 500000: Cost   563.25\n",
      "Iteration 600000: Cost   560.58\n",
      "Iteration 700000: Cost   557.92\n",
      "Iteration 800000: Cost   555.29\n",
      "Iteration 900000: Cost   552.66\n",
      "b,w found by gradient descent: -0.03,[ 0.24168324  0.56136379 -1.61971509 -1.5549255 ] \n"
     ]
    }
   ],
   "source": [
    "initial_w = np.zeros(X_train.shape[1])\n",
    "initial_b = 0.\n",
    "iterations = 1000000\n",
    "alpha = 0.0000001\n",
    "w_final, b_final, J_hist = gradient_descent(X_train, y_train, initial_w, initial_b, iterations,alpha )\n",
    "print(f\"b,w found by gradient descent: {b_final:0.2f},{w_final} \")\n"
   ]
  },
  {
   "cell_type": "code",
   "execution_count": 7,
   "id": "f8e20196-d828-42a9-84d0-387d23db17f1",
   "metadata": {},
   "outputs": [
    {
     "name": "stdin",
     "output_type": "stream",
     "text": [
      "Enter Size, number of bedroom, number of floor, age of home   BY GIVING COMMA   2400,4,1,5\n"
     ]
    },
    {
     "name": "stdout",
     "output_type": "stream",
     "text": [
      "₹ 572.8636492293094\n"
     ]
    }
   ],
   "source": [
    "n=input(\"Enter Size, number of bedroom, number of floor, age of home   BY GIVING COMMA  \")\n",
    "l=list(map(int, n.split(',')))\n",
    "price_prediction=np.dot(l,w_final)+b_final\n",
    "print(\"₹\",price_prediction)"
   ]
  },
  {
   "cell_type": "code",
   "execution_count": null,
   "id": "430fa0bd-5674-4bd7-87cf-1a1f5ecbc8d9",
   "metadata": {},
   "outputs": [],
   "source": []
  }
 ],
 "metadata": {
  "kernelspec": {
   "display_name": "Python 3 (ipykernel)",
   "language": "python",
   "name": "python3"
  },
  "language_info": {
   "codemirror_mode": {
    "name": "ipython",
    "version": 3
   },
   "file_extension": ".py",
   "mimetype": "text/x-python",
   "name": "python",
   "nbconvert_exporter": "python",
   "pygments_lexer": "ipython3",
   "version": "3.12.6"
  }
 },
 "nbformat": 4,
 "nbformat_minor": 5
}
